{
 "cells": [
  {
   "cell_type": "code",
   "execution_count": 3,
   "id": "792bb76e-8a84-4878-b4f8-2e36f0ad8da7",
   "metadata": {},
   "outputs": [],
   "source": [
    "from pydantic import BaseModel, Field\n",
    "from langchain_openai import ChatOpenAI\n",
    "from typing import Optional\n",
    "\n",
    "class PhysicalAddress(BaseModel):\n",
    "  name: str = Field(..., description=\"Name of the place\")\n",
    "  city_name: Optional[str] = Field(None, description=\"City Name, or Nearest City\")\n",
    "\n",
    "class Feelings(BaseModel):\n",
    "  happy: bool = Field(..., description=\"Tone of message is happy, or brings back happy memories\")\n",
    "  sincere: bool = Field(..., description=\"Tone of message is sincere\")\n",
    "  sad: bool = Field(..., description=\"Tone of message is sad, or brings back sad memories\")\n",
    "\n",
    "human_with_address = ChatOpenAI(model=\"gpt-4o\").with_structured_output(PhysicalAddress)\n",
    "human_with_feelings = ChatOpenAI(model=\"gpt-4o\").with_structured_output(Feelings)"
   ]
  },
  {
   "cell_type": "code",
   "execution_count": 4,
   "id": "874eadb4-55d8-47f5-8628-cd8ec6d9cfc8",
   "metadata": {},
   "outputs": [
    {
     "data": {
      "text/plain": [
       "PhysicalAddress(name='Joshua Tree National Park', city_name='Joshua Tree')"
      ]
     },
     "execution_count": 4,
     "metadata": {},
     "output_type": "execute_result"
    }
   ],
   "source": [
    "human_with_address.invoke(\"It's quiet here in Joshua Tree.  The days have 36 hours.\")"
   ]
  },
  {
   "cell_type": "code",
   "execution_count": 5,
   "id": "aee9c39e-3bbb-4904-a413-53ada7d36e6c",
   "metadata": {},
   "outputs": [
    {
     "data": {
      "text/plain": [
       "Feelings(happy=True, sincere=True, sad=False)"
      ]
     },
     "execution_count": 5,
     "metadata": {},
     "output_type": "execute_result"
    }
   ],
   "source": [
    "human_with_feelings.invoke(\"It's quiet here in Joshua Tree.  The days have 36 hours.\")"
   ]
  },
  {
   "cell_type": "code",
   "execution_count": 6,
   "id": "c7eb34b6-e793-453f-b257-2d885279db00",
   "metadata": {},
   "outputs": [],
   "source": [
    "class HumanSoFar(BaseModel):\n",
    "  feelings: Feelings\n",
    "  address: PhysicalAddress\n",
    "  \n",
    "super_realistic_human = ChatOpenAI(model=\"gpt-4o\").with_structured_output(HumanSoFar)"
   ]
  },
  {
   "cell_type": "code",
   "execution_count": 7,
   "id": "a2fa363b-1b0e-4f2d-8df5-79f4c3de52af",
   "metadata": {},
   "outputs": [
    {
     "data": {
      "text/plain": [
       "HumanSoFar(feelings=Feelings(happy=False, sincere=False, sad=False), address=PhysicalAddress(name='Joshua Tree', city_name=None))"
      ]
     },
     "execution_count": 7,
     "metadata": {},
     "output_type": "execute_result"
    }
   ],
   "source": [
    "super_realistic_human.invoke(\"It's quiet here in Joshua Tree.  The days have 36 hours.\")"
   ]
  },
  {
   "cell_type": "code",
   "execution_count": 8,
   "id": "681d29f1-e824-40c5-814f-d06bf6f5471c",
   "metadata": {},
   "outputs": [],
   "source": [
    "class RawHuman(BaseModel):\n",
    "    human: HumanSoFar\n",
    "    invoked_with: str = Field(..., description=\"Text given to the human to process\")"
   ]
  },
  {
   "cell_type": "code",
   "execution_count": 9,
   "id": "e87d1921-3e83-4058-8d0d-ac3fcc662245",
   "metadata": {},
   "outputs": [],
   "source": [
    "raw_human = ChatOpenAI(model=\"gpt-4o\").with_structured_output(RawHuman)"
   ]
  },
  {
   "cell_type": "code",
   "execution_count": 10,
   "id": "bfe21526-8760-4c42-8d25-048f09706b74",
   "metadata": {},
   "outputs": [
    {
     "data": {
      "text/plain": [
       "RawHuman(human=HumanSoFar(feelings=Feelings(happy=False, sincere=True, sad=False), address=PhysicalAddress(name='Joshua Tree', city_name=None)), invoked_with=\"It's quiet here in Joshua Tree. The days have 36 hours.\")"
      ]
     },
     "execution_count": 10,
     "metadata": {},
     "output_type": "execute_result"
    }
   ],
   "source": [
    "raw_human.invoke(\"It's quiet here in Joshua Tree.  The days have 36 hours.\")"
   ]
  },
  {
   "cell_type": "code",
   "execution_count": 11,
   "id": "2053712f-6334-412f-885b-41da26283d16",
   "metadata": {},
   "outputs": [
    {
     "data": {
      "text/plain": [
       "RawHuman(human=HumanSoFar(feelings=Feelings(happy=True, sincere=True, sad=False), address=PhysicalAddress(name='Sleepy Cove', city_name=None)), invoked_with=\"How was the climbing? Did you guys have fun? Oh, you had the place all to yourself -- that's awesome. That was at Sleepy Cove, right? Next to Barker Dam.\")"
      ]
     },
     "execution_count": 11,
     "metadata": {},
     "output_type": "execute_result"
    }
   ],
   "source": [
    "raw_human.invoke(\"How was the climbing?  Did you guys have fun?  Oh, you had place all to yourself -- that's awesome.  That was at Sleepy Cove, right?   Next to Barker Dam.\")"
   ]
  },
  {
   "cell_type": "code",
   "execution_count": null,
   "id": "f101e208-c21a-40bc-aea7-74f0c2564e5b",
   "metadata": {},
   "outputs": [],
   "source": []
  }
 ],
 "metadata": {
  "kernelspec": {
   "display_name": "Python 3 (ipykernel)",
   "language": "python",
   "name": "python3"
  },
  "language_info": {
   "codemirror_mode": {
    "name": "ipython",
    "version": 3
   },
   "file_extension": ".py",
   "mimetype": "text/x-python",
   "name": "python",
   "nbconvert_exporter": "python",
   "pygments_lexer": "ipython3",
   "version": "3.12.4"
  }
 },
 "nbformat": 4,
 "nbformat_minor": 5
}
